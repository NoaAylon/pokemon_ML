{
 "cells": [
  {
   "cell_type": "code",
   "execution_count": 254,
   "metadata": {
    "scrolled": false
   },
   "outputs": [
    {
     "data": {
      "text/html": [
       "<div>\n",
       "<style scoped>\n",
       "    .dataframe tbody tr th:only-of-type {\n",
       "        vertical-align: middle;\n",
       "    }\n",
       "\n",
       "    .dataframe tbody tr th {\n",
       "        vertical-align: top;\n",
       "    }\n",
       "\n",
       "    .dataframe thead th {\n",
       "        text-align: right;\n",
       "    }\n",
       "</style>\n",
       "<table border=\"1\" class=\"dataframe\">\n",
       "  <thead>\n",
       "    <tr style=\"text-align: right;\">\n",
       "      <th></th>\n",
       "      <th>Type 1</th>\n",
       "      <th>Total</th>\n",
       "      <th>HP</th>\n",
       "      <th>Attack</th>\n",
       "      <th>Defense</th>\n",
       "      <th>Sp. Atk</th>\n",
       "      <th>Sp. Def</th>\n",
       "      <th>Speed</th>\n",
       "    </tr>\n",
       "  </thead>\n",
       "  <tbody>\n",
       "    <tr>\n",
       "      <th>0</th>\n",
       "      <td>0</td>\n",
       "      <td>318</td>\n",
       "      <td>45</td>\n",
       "      <td>49</td>\n",
       "      <td>49</td>\n",
       "      <td>65</td>\n",
       "      <td>65</td>\n",
       "      <td>45</td>\n",
       "    </tr>\n",
       "    <tr>\n",
       "      <th>1</th>\n",
       "      <td>0</td>\n",
       "      <td>405</td>\n",
       "      <td>60</td>\n",
       "      <td>62</td>\n",
       "      <td>63</td>\n",
       "      <td>80</td>\n",
       "      <td>80</td>\n",
       "      <td>60</td>\n",
       "    </tr>\n",
       "    <tr>\n",
       "      <th>2</th>\n",
       "      <td>0</td>\n",
       "      <td>525</td>\n",
       "      <td>80</td>\n",
       "      <td>82</td>\n",
       "      <td>83</td>\n",
       "      <td>100</td>\n",
       "      <td>100</td>\n",
       "      <td>80</td>\n",
       "    </tr>\n",
       "    <tr>\n",
       "      <th>3</th>\n",
       "      <td>0</td>\n",
       "      <td>625</td>\n",
       "      <td>80</td>\n",
       "      <td>100</td>\n",
       "      <td>123</td>\n",
       "      <td>122</td>\n",
       "      <td>120</td>\n",
       "      <td>80</td>\n",
       "    </tr>\n",
       "    <tr>\n",
       "      <th>4</th>\n",
       "      <td>1</td>\n",
       "      <td>309</td>\n",
       "      <td>39</td>\n",
       "      <td>52</td>\n",
       "      <td>43</td>\n",
       "      <td>60</td>\n",
       "      <td>50</td>\n",
       "      <td>65</td>\n",
       "    </tr>\n",
       "  </tbody>\n",
       "</table>\n",
       "</div>"
      ],
      "text/plain": [
       "   Type 1  Total  HP  Attack  Defense  Sp. Atk  Sp. Def  Speed\n",
       "0       0    318  45      49       49       65       65     45\n",
       "1       0    405  60      62       63       80       80     60\n",
       "2       0    525  80      82       83      100      100     80\n",
       "3       0    625  80     100      123      122      120     80\n",
       "4       1    309  39      52       43       60       50     65"
      ]
     },
     "execution_count": 254,
     "metadata": {},
     "output_type": "execute_result"
    }
   ],
   "source": [
    "import pandas as pd\n",
    "from sklearn import preprocessing\n",
    "from sklearn.model_selection import train_test_split\n",
    "\n",
    "# pd.set_option('max_columns')\n",
    "pokemons = pd.read_csv(\"./Pokemon.csv\", index_col=0)\n",
    "pokemons.reset_index(drop=True, inplace=True)\n",
    "\n",
    "pokemons.head()\n",
    "\n",
    "train_pkm = pokemons\n",
    "train_pkm = train_pkm.drop(['Name','Legendary','Generation'],1)\n",
    "test_pkm = pokemons[0::3]\n",
    "test_pkm = test_pkm.drop(['Name','Legendary','Generation'],1)\n",
    "\n",
    "#convert all types to numeric\n",
    "types = {\"Grass\": 0, \"Fire\": 1, \"Water\":2,\"Bug\":3,\"Normal\":4,\"Poison\":5,\"Electric\":6,\"Ground\":7,\"Fairy\":8,\"Fighting\":9,\n",
    "         \"Psychic\":10,\"Rock\":11,\"Ghost\":12,\"Ice\":13,\"Dragon\":14,\"Dark\":15,\"Steel\":16,\"Flying\":17}\n",
    "\n",
    "train_pkm[\"Type 1\"].replace(to_replace=types, inplace=True)\n",
    "test_pkm[\"Type 1\"].replace(to_replace=types, inplace=True)\n",
    "\n",
    "#we make sure all features are numeric\n",
    "# train_pkm.info()\n",
    "train_pkm.head()\n",
    "\n",
    "\n",
    "# data = [train_df, test_df]\n"
   ]
  },
  {
   "cell_type": "code",
   "execution_count": 256,
   "metadata": {},
   "outputs": [
    {
     "data": {
      "text/plain": [
       "299     4\n",
       "500     7\n",
       "303    10\n",
       "40      8\n",
       "495     4\n",
       "436     1\n",
       "236     1\n",
       "605     3\n",
       "389    12\n",
       "231     3\n",
       "14      3\n",
       "240     2\n",
       "781    12\n",
       "794    14\n",
       "27      4\n",
       "55      7\n",
       "344     0\n",
       "222     7\n",
       "162    10\n",
       "478    15\n",
       "669    12\n",
       "113     7\n",
       "682    14\n",
       "521     0\n",
       "776    14\n",
       "465     2\n",
       "156    13\n",
       "247    15\n",
       "440     2\n",
       "613     7\n",
       "       ..\n",
       "34      5\n",
       "346     5\n",
       "279     1\n",
       "647     4\n",
       "118     5\n",
       "12      2\n",
       "157     6\n",
       "592     9\n",
       "320     9\n",
       "379    11\n",
       "334     9\n",
       "181     3\n",
       "350     2\n",
       "97      2\n",
       "651     0\n",
       "424     7\n",
       "406    14\n",
       "750    16\n",
       "767    11\n",
       "458     3\n",
       "312     4\n",
       "364     4\n",
       "549    15\n",
       "204     0\n",
       "624    12\n",
       "654     2\n",
       "527    10\n",
       "358     4\n",
       "17      3\n",
       "316     3\n",
       "Name: Type 1, Length: 200, dtype: int64"
      ]
     },
     "execution_count": 256,
     "metadata": {},
     "output_type": "execute_result"
    }
   ],
   "source": [
    "#choose features - keep all features and we drop Type\n",
    "X_train = train_pkm.drop(\"Type 1\",1)\n",
    "#choose the prediction target\n",
    "Y_train = train_pkm[\"Type 1\"]\n",
    "X_test  = test_pkm.copy()\n",
    "\n",
    "train_X, val_X, train_y, val_y = train_test_split(X_train, Y_train, random_state = 0)\n",
    "\n",
    "train_y.head()\n",
    "# X_train.describe()\n",
    "# X_train.head()\n",
    "# X_train.index"
   ]
  },
  {
   "cell_type": "code",
   "execution_count": 109,
   "metadata": {},
   "outputs": [],
   "source": [
    "from sklearn import linear_model\n",
    "from sklearn.linear_model import LogisticRegression\n",
    "from sklearn.ensemble import RandomForestClassifier\n",
    "from sklearn.linear_model import Perceptron\n",
    "from sklearn.linear_model import SGDClassifier\n",
    "from sklearn.tree import DecisionTreeClassifier\n",
    "from sklearn.neighbors import KNeighborsClassifier\n",
    "from sklearn.svm import SVC, LinearSVC\n",
    "from sklearn.naive_bayes import GaussianNB"
   ]
  },
  {
   "cell_type": "code",
   "execution_count": 205,
   "metadata": {},
   "outputs": [
    {
     "data": {
      "text/plain": [
       "13.17"
      ]
     },
     "execution_count": 205,
     "metadata": {},
     "output_type": "execute_result"
    }
   ],
   "source": [
    "sgd = linear_model.SGDClassifier(max_iter=5, tol=None)\n",
    "sgd.fit(X_train, Y_train)\n",
    "Y_pred = sgd.predict(val_X)\n",
    "\n",
    "sgd.score(train_X, train_y)\n",
    "\n",
    "acc_sgd = round(sgd.score(train_X, train_y) * 100, 2)\n",
    "acc_sgd"
   ]
  },
  {
   "cell_type": "code",
   "execution_count": 201,
   "metadata": {},
   "outputs": [
    {
     "data": {
      "text/plain": [
       "80.12"
      ]
     },
     "execution_count": 201,
     "metadata": {},
     "output_type": "execute_result"
    }
   ],
   "source": [
    "random_forest = RandomForestClassifier(n_estimators=100)\n",
    "random_forest.fit(train_X, train_y)\n",
    "\n",
    "Y_prediction = random_forest.predict(val_X)\n",
    "\n",
    "random_forest.score(X_train, Y_train)\n",
    "acc_random_forest = round(random_forest.score(X_train, Y_train) * 100, 2)\n",
    "acc_random_forest"
   ]
  },
  {
   "cell_type": "code",
   "execution_count": 198,
   "metadata": {},
   "outputs": [
    {
     "data": {
      "text/plain": [
       "27.33"
      ]
     },
     "execution_count": 198,
     "metadata": {},
     "output_type": "execute_result"
    }
   ],
   "source": [
    "logreg = LogisticRegression()\n",
    "logreg.fit(train_X, train_y)\n",
    "\n",
    "Y_pred = logreg.predict(val_X)\n",
    "\n",
    "acc_log = round(logreg.score(train_X, train_y) * 100, 2)\n",
    "acc_log"
   ]
  },
  {
   "cell_type": "code",
   "execution_count": 257,
   "metadata": {},
   "outputs": [
    {
     "data": {
      "text/plain": [
       "49.83"
      ]
     },
     "execution_count": 257,
     "metadata": {},
     "output_type": "execute_result"
    }
   ],
   "source": [
    "knn = KNeighborsClassifier(n_neighbors = 3) \n",
    "knn.fit(train_X, train_y)  \n",
    "\n",
    "Y_pred = knn.predict(val_X)  \n",
    "acc_knn = round(knn.score(train_X, train_y) * 100, 2)\n",
    "acc_knn"
   ]
  },
  {
   "cell_type": "code",
   "execution_count": 298,
   "metadata": {},
   "outputs": [
    {
     "name": "stdout",
     "output_type": "stream",
     "text": [
      "Making predictions for the following 5 pokemons type:\n",
      "   Type 1  Total  HP  Attack  Defense  Sp. Atk  Sp. Def  Speed\n",
      "0       0    318  45      49       49       65       65     45\n",
      "1       0    405  60      62       63       80       80     60\n",
      "2       0    525  80      82       83      100      100     80\n",
      "3       0    625  80     100      123      122      120     80\n",
      "4       1    309  39      52       43       60       50     65\n",
      "5       1    405  58      64       58       80       65     80\n",
      "6       1    534  78      84       78      109       85    100\n",
      "7       1    634  78     130      111      130       85    100\n",
      "8       1    634  78     104       78      159      115    100\n",
      "9       2    314  44      48       65       50       64     43\n",
      "The predictions are\n",
      "[0 4 2 0 1 1 1 1 4 2]\n"
     ]
    }
   ],
   "source": [
    "decision_tree = DecisionTreeClassifier() \n",
    "decision_tree.fit(train_X, train_y)  \n",
    "Y_pred = decision_tree.predict(X_train.head(10))  \n",
    "acc_decision_tree = round(decision_tree.score(train_X, train_y) * 100, 2)\n",
    "print(\"Making predictions for the following 5 pokemons type:\")\n",
    "print(train_pkm.head(10))\n",
    "print(\"The predictions are\")\n",
    "print(decision_tree.predict(X_train.head(10)))"
   ]
  },
  {
   "cell_type": "code",
   "execution_count": 214,
   "metadata": {},
   "outputs": [
    {
     "data": {
      "text/plain": [
       "10.83"
      ]
     },
     "execution_count": 214,
     "metadata": {},
     "output_type": "execute_result"
    }
   ],
   "source": [
    "linear_svc = LinearSVC()\n",
    "linear_svc.fit(train_X, train_y)\n",
    "\n",
    "Y_pred = linear_svc.predict(val_X)\n",
    "\n",
    "\n",
    "acc_linear_svc = round(linear_svc.score(train_X, train_y) * 100, 2)\n",
    "acc_linear_svc"
   ]
  }
 ],
 "metadata": {
  "kernelspec": {
   "display_name": "Python 3",
   "language": "python",
   "name": "python3"
  },
  "language_info": {
   "codemirror_mode": {
    "name": "ipython",
    "version": 3
   },
   "file_extension": ".py",
   "mimetype": "text/x-python",
   "name": "python",
   "nbconvert_exporter": "python",
   "pygments_lexer": "ipython3",
   "version": "3.7.0"
  }
 },
 "nbformat": 4,
 "nbformat_minor": 2
}
